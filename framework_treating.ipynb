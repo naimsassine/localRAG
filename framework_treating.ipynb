{
 "cells": [
  {
   "cell_type": "code",
   "execution_count": 23,
   "metadata": {},
   "outputs": [],
   "source": [
    "import pandas as pd\n",
    "import re\n",
    "import io\n",
    "import pdfplumber\n",
    "import requests"
   ]
  },
  {
   "cell_type": "code",
   "execution_count": 28,
   "metadata": {},
   "outputs": [],
   "source": [
    "ATTACHMENT_TYPE_ERR_MSG = (\n",
    "    \"All attachments must be either DctmObjRef or Attachment type, got {}: {}\"\n",
    ")\n",
    "ATTACH_TYPE_EXPECTED = \"Attachment expected to be of type `Attachment`, got {}\"\n",
    "UNEXPECTED_ATTR_TO_PARSE = (\n",
    "    \"Attribute to parse from attachments expected to be in \"\n",
    "    \"['body', 'filename'], got '{}'\"\n",
    ")\n",
    "DCTM_OBJ_REF_EXPECTED = \"Expected DctmObjRef, got {}: {}\"\n",
    "DOXC2TXT_EXCEPTION = \"Cannot process file, raised '{}' error\"\n",
    "LIST_OR_STR_ATTACH_EXPECTED = \"Got type {} for attachment, only list or str accepted\"\n",
    "PAGE_SEP = \"\\n\" + \"=\" * 31 + \" NEW PAGE \" + \"=\" * 31 + \"\\n\"\n",
    "MISSING_SPACES_PATTERNS = [\n",
    "    \"IndicativeTermsheet\\n\",\n",
    "    \"PRIVATEPLACEMENT\\n\",\n",
    "    \"PublicOfferingonlyin:\",\n",
    "]\n",
    "\n",
    "\n",
    "def check_txt_missing_spaces(all_pages_txt: str, threshold: float = 0.06) -> bool:\n",
    "    \"\"\"Check if the parsed PDF has missing spaces (as for all Leonteq termsheets).\n",
    "\n",
    "    Notes\n",
    "    -----\n",
    "    The alignment used to format the Leonteq termsheets are not properly recognized by\n",
    "    our PDF converter. As an undesirable result, most spaces are being removed during\n",
    "    the conversion step leading to erroneous extractions.\n",
    "    \"\"\"\n",
    "\n",
    "    nb_spaces = all_pages_txt.count(\" \")\n",
    "    nb_chars = len(all_pages_txt)\n",
    "    ratio = nb_spaces / nb_chars\n",
    "\n",
    "    return ratio < threshold and any(\n",
    "        p in all_pages_txt for p in MISSING_SPACES_PATTERNS\n",
    "    )\n",
    "\n",
    "\n",
    "def pdf_text_from_bytes(\n",
    "    pdf_bytes_string: bytes,\n",
    "    max_pages: int = 999,\n",
    "    pages_sep: str = PAGE_SEP,\n",
    ") -> str:\n",
    "    \"\"\"Convert the PDF byte representation to text.\"\"\"\n",
    "    try:\n",
    "        # Pdfplumber returns empty string for UTF-8 encoded strings\n",
    "        # (without any exception raised), only Latin-1 works\n",
    "        # On the other hand, FastAPI requires UTF-8 strings in payloads,\n",
    "        # so we assume UTF-8 string arrives here\n",
    "        pdf_bytes_string = pdf_bytes_string.decode(\"UTF-8\").encode(\"Latin1\")\n",
    "    except UnicodeDecodeError:\n",
    "        # If the above command fails, we will assume the byte string\n",
    "        # is already Latin1 encoded\n",
    "        pass\n",
    "\n",
    "    all_pages_txt = \"\"\n",
    "    pages_list = []\n",
    "    with pdfplumber.open(io.BytesIO(pdf_bytes_string)) as pdf:\n",
    "        for page_idx in range(\n",
    "            0, min(len(pdf.pages), max_pages)\n",
    "        ):  # pylint: disable=invalid-name\n",
    "            pages_list.append(pdf.pages[page_idx].extract_text() + pages_sep)\n",
    "            all_pages_txt += pdf.pages[page_idx].extract_text() + pages_sep\n",
    "    return pages_list\n"
   ]
  },
  {
   "cell_type": "code",
   "execution_count": 29,
   "metadata": {},
   "outputs": [
    {
     "ename": "AttributeError",
     "evalue": "'list' object has no attribute 'lower'",
     "output_type": "error",
     "traceback": [
      "\u001b[1;31m---------------------------------------------------------------------------\u001b[0m",
      "\u001b[1;31mAttributeError\u001b[0m                            Traceback (most recent call last)",
      "Cell \u001b[1;32mIn[29], line 18\u001b[0m\n\u001b[0;32m     14\u001b[0m     text \u001b[38;5;241m=\u001b[39m text\u001b[38;5;241m.\u001b[39mreplace(\u001b[38;5;124m\"\u001b[39m\u001b[38;5;124m  \u001b[39m\u001b[38;5;124m\"\u001b[39m, \u001b[38;5;124m\"\u001b[39m\u001b[38;5;124m \u001b[39m\u001b[38;5;124m\"\u001b[39m)\n\u001b[0;32m     15\u001b[0m     \u001b[38;5;28;01mreturn\u001b[39;00m text\n\u001b[1;32m---> 18\u001b[0m text \u001b[38;5;241m=\u001b[39m \u001b[43mclean_text\u001b[49m\u001b[43m(\u001b[49m\u001b[43mpdf_text\u001b[49m\u001b[43m)\u001b[49m\n",
      "Cell \u001b[1;32mIn[29], line 12\u001b[0m, in \u001b[0;36mclean_text\u001b[1;34m(text)\u001b[0m\n\u001b[0;32m     10\u001b[0m \u001b[38;5;28;01mdef\u001b[39;00m \u001b[38;5;21mclean_text\u001b[39m(text):\n\u001b[1;32m---> 12\u001b[0m     text \u001b[38;5;241m=\u001b[39m \u001b[43mtext\u001b[49m\u001b[38;5;241;43m.\u001b[39;49m\u001b[43mlower\u001b[49m()\n\u001b[0;32m     13\u001b[0m     text \u001b[38;5;241m=\u001b[39m text\u001b[38;5;241m.\u001b[39mreplace(\u001b[38;5;124m\"\u001b[39m\u001b[38;5;130;01m\\n\u001b[39;00m\u001b[38;5;124m\"\u001b[39m, \u001b[38;5;124m\"\u001b[39m\u001b[38;5;124m \u001b[39m\u001b[38;5;124m\"\u001b[39m)\n\u001b[0;32m     14\u001b[0m     text \u001b[38;5;241m=\u001b[39m text\u001b[38;5;241m.\u001b[39mreplace(\u001b[38;5;124m\"\u001b[39m\u001b[38;5;124m  \u001b[39m\u001b[38;5;124m\"\u001b[39m, \u001b[38;5;124m\"\u001b[39m\u001b[38;5;124m \u001b[39m\u001b[38;5;124m\"\u001b[39m)\n",
      "\u001b[1;31mAttributeError\u001b[0m: 'list' object has no attribute 'lower'"
     ]
    }
   ],
   "source": [
    "\n",
    "with open(\n",
    "    \"SEK_Green_Bond_Framework.pdf\",\n",
    "    \"rb\",\n",
    ") as fobj:\n",
    "    pdf_bytes_utf8 = fobj.read().decode(\"Latin1\").encode(\"UTF-8\")\n",
    "    pdf_text = pdf_text_from_bytes(pdf_bytes_utf8)\n",
    "\n",
    "\n",
    "\n",
    "def clean_text(text):\n",
    "\n",
    "    text = text.lower()\n",
    "    text = text.replace(\"\\n\", \" \")\n",
    "    text = text.replace(\"  \", \" \")\n",
    "    return text\n",
    "\n",
    "\n",
    "text = clean_text(pdf_text)\n"
   ]
  },
  {
   "cell_type": "code",
   "execution_count": 31,
   "metadata": {},
   "outputs": [
    {
     "data": {
      "text/plain": [
       "3"
      ]
     },
     "execution_count": 31,
     "metadata": {},
     "output_type": "execute_result"
    }
   ],
   "source": [
    "len(pdf_text)"
   ]
  },
  {
   "cell_type": "code",
   "execution_count": 26,
   "metadata": {},
   "outputs": [
    {
     "data": {
      "text/plain": [
       "'green bond framework 1. eligible projects \"eligible projects\" means a selected pool of projects funded, in whole or in part, by sek that promote the transition to low-carbon and climate resilient growth as determined by sek in its sole and absolute discretion. eligible projects may include: - projects that target a reduction in emissions of greenhouse gases (ghg) into the atmosphere or absorption of them from the atmosphere (“mitigation projects”). - projects that target the preservation or advancement of adaptive capacity and resilience in order to reduce the vulnerability of human and natural systems due to the impacts of climate changes (“adaptation projects”). 1.1 mitigation projects a type of activity can be labeled as contributing to climate change mitigation if it is one among a set of options available to decision-makers and if it leads (according to the available information) to a relatively significant emission reduction as compared to the other options. an eligible mitigation project should have a positive impact on the environment that is measurable according to an internationally recognized methodology (see impact reporting below). no fossil fuel projects are eligible. category eligible project examples considerations / limitations renewable energy -bioenergy consideration will be given - district heating and cooling to potential social and - hydro and marine power environmental impact of large - solar hydro projects. - wind water and wastewater -marine technologies - wastewater treatment - water quality energy efficiency - energy storage considerations will be given - smart grids to potential rebound effects. - transmission systems - no nuclear power projects - heating and cooling are eligible. - lighting aktiebolaget svensk exportkredit (publ), klarabergsviadukten 61-63, box 194, 101 23 stockholm, sweden 1(3) tel +46(0)8-613 83 00, fax +46(0)8-20 38 94, org.nr. 556084-0315, www.sek.se =============================== new page =============================== green bond framework category eligible project examples considerations / limitations - ventilation recycling & waste -recycling - waste management sustainable construction - green buildings considerations will be given - green infrastructure to site selection and land use issues and to building standards like leed (2009) and breeam (2013). resources & environment - forestry considerations will be given - air quality to fsc standards. - soil quality sustainable materials - advanced materials subject to sek assessment. - green chemistry sustainable transport - fuels and vehicles potential for emission - transport management reduction will be assessed on degree of urbanization, fuel type, and competition with private transportation. considerations will be given to rebound effects and lock- ins due to infrastructure investments. 1.2 adaptation projects an adaptation project should include a statement of purpose or intent to address or improve climate resilience and set out a context of climate vulnerability. it should also link the project activities to the context of climate vulnerability (e.g., socio-economic conditions and geographical location), reflecting only direct contributions to climate resilience. 2. selection of eligible projects the eligible projects are selected through the best of sek’s capabilities, and are selected in two phases: 1. sek client relationship management team identifies and proposes a possible eligible project. 2. sek sustainability department assesses as to whether a project qualifies as an eligible project. final decision will rest with sek sustainability department. 2(3) =============================== new page =============================== green bond framework 3. allocation of proceeds a subaccount is established to absorb the green bond proceeds. the subaccount balance will be adjusted on a semi-annual basis in accordance with the amount allocated to eligible projects. an amount equal to the subaccount balance will be held in cash, green bonds or municipality and/or government risk with a minimum credit rating of aa-. the subaccount balance will be reviewed by external auditors on a semi-annual basis. 4. methodology for co2 impact assessment co2- emission reductions will be measured on a project basis in proportion to the part financed by sek. the methodology to measure these reductions follows the methodology set out in “international financial institution framework for harmonised approach to greenhouse gas accounting” 2015. sek sustainability department will estimate the reasonableness of reported reductions. 5. monitoring and impact reporting impact reporting on eligible projects and links to relevant documents will be disclosed at www.sek.se. an annual newsletter will be provided to inform of eligible projects, co2- emission reductions and a summary of the sek green bond development. 3(3) =============================== new page =============================== '"
      ]
     },
     "execution_count": 26,
     "metadata": {},
     "output_type": "execute_result"
    }
   ],
   "source": [
    "text"
   ]
  },
  {
   "cell_type": "code",
   "execution_count": 17,
   "metadata": {},
   "outputs": [],
   "source": [
    "def read_keys(filename):\n",
    "    mykey = None\n",
    "    myorg = None\n",
    "    \n",
    "    try:\n",
    "        with open(filename, 'r') as file:\n",
    "            for line in file:\n",
    "                if 'mykey' in line:\n",
    "                    mykey = line.split('=')[1].strip().strip('\"')\n",
    "                elif 'myorg' in line:\n",
    "                    myorg = line.split('=')[1].strip().strip('\"')\n",
    "    except FileNotFoundError:\n",
    "        print(f\"The file {filename} does not exist.\")\n",
    "    \n",
    "    return mykey, myorg\n",
    "\n",
    "# Reading values from keys.txt\n",
    "filename = \"keys\"\n",
    "mykey, myorg = read_keys(filename)\n"
   ]
  },
  {
   "cell_type": "code",
   "execution_count": 8,
   "metadata": {},
   "outputs": [],
   "source": [
    "pretext = \"\"\"the following is a document that illustrates an ESG framework under which an issuer issues financial instruments\n",
    "---- document beginning ----\n",
    "\"\"\""
   ]
  },
  {
   "cell_type": "code",
   "execution_count": 12,
   "metadata": {},
   "outputs": [],
   "source": [
    "posttext = \"\"\"\n",
    "---- document ending ----\n",
    "\n",
    "I need you to answer these questions about the above text : \n",
    "\n",
    "---- questions about the document ----\n",
    "\n",
    "1. The framework can mention the projects for which the funding will be used. What are those projects?\n",
    "response structure: List of Eligible Project : None or the list if found\n",
    "\n",
    "2. The framework can also mention the project categories for which the funding will be used. What are those categories?\n",
    "response structure: List of Eligible Project Categories : None or the list if found\n",
    "\n",
    "3. The framework can mention a selection process for the eligible projects. Does it mention it or not?\n",
    "response structure : ESG project selection process: Y/N\n",
    "\n",
    "4. the framework can mention a management of the proceeds in correspondance with the ESG initiative. Does it mention it or not?\n",
    "This can be mentioned in the text under the format : \"Allocation of proceeds\"\n",
    "response structure : Management of Proceeds : Y/N\n",
    "\n",
    "\"\"\""
   ]
  },
  {
   "cell_type": "code",
   "execution_count": 13,
   "metadata": {},
   "outputs": [],
   "source": [
    "prompt = pretext + text + posttext"
   ]
  },
  {
   "cell_type": "code",
   "execution_count": 21,
   "metadata": {},
   "outputs": [],
   "source": [
    "prompt = \"hi how are you\""
   ]
  },
  {
   "cell_type": "code",
   "execution_count": null,
   "metadata": {},
   "outputs": [],
   "source": [
    "mykey = \"\""
   ]
  },
  {
   "cell_type": "code",
   "execution_count": null,
   "metadata": {},
   "outputs": [
    {
     "name": "stdout",
     "output_type": "stream",
     "text": [
      "An error occurred: 401 Client Error: Unauthorized for url: https://azure-openai-dev-001.openai.azure.com/openai/deployments/gpt-4o-mini/chat/completions?api-version=2024-08-01-preview\n"
     ]
    },
    {
     "name": "stderr",
     "output_type": "stream",
     "text": [
      "C:\\Users\\XL892PG\\AppData\\Roaming\\Python\\Python38\\site-packages\\urllib3\\connectionpool.py:1045: InsecureRequestWarning: Unverified HTTPS request is being made to host 'azure-openai-dev-001.openai.azure.com'. Adding certificate verification is strongly advised. See: https://urllib3.readthedocs.io/en/1.26.x/advanced-usage.html#ssl-warnings\n",
      "  warnings.warn(\n"
     ]
    }
   ],
   "source": [
    "import requests\n",
    "\n",
    "url = \"https://api.openai.com/v1/chat/completions\"\n",
    "headers = {\n",
    "    \"Authorization\": f\"Bearer {mykey}\",\n",
    "    \"Content-Type\": \"application/json\"\n",
    "}\n",
    "data = {\n",
    "    \"model\": \"gpt-3.5-turbo\",\n",
    "    \"messages\": [\n",
    "        {\"role\": \"user\", \"content\": prompt},\n",
    "    ]\n",
    "}\n",
    "\n",
    "try:\n",
    "    response = requests.post(url, headers=headers, json=data, verify=False)\n",
    "    response.raise_for_status()  # Raises an error for 4xx/5xx responses\n",
    "    print(response.json()[\"choices\"][0][\"message\"][\"content\"])\n",
    "except requests.exceptions.RequestException as e:\n",
    "    print(f\"An error occurred: {e}\")\n"
   ]
  },
  {
   "cell_type": "code",
   "execution_count": null,
   "metadata": {},
   "outputs": [],
   "source": []
  }
 ],
 "metadata": {
  "kernelspec": {
   "display_name": "JVD",
   "language": "python",
   "name": "python3"
  },
  "language_info": {
   "codemirror_mode": {
    "name": "ipython",
    "version": 3
   },
   "file_extension": ".py",
   "mimetype": "text/x-python",
   "name": "python",
   "nbconvert_exporter": "python",
   "pygments_lexer": "ipython3",
   "version": "3.8.16"
  }
 },
 "nbformat": 4,
 "nbformat_minor": 2
}
